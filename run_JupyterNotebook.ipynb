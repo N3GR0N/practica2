{
 "cells": [
  {
   "cell_type": "markdown",
   "metadata": {},
   "source": [
    "Entrega numero 2"
   ]
  },
  {
   "cell_type": "markdown",
   "metadata": {},
   "source": [
    "Importo package para disponer de data y de las funciones"
   ]
  },
  {
   "cell_type": "code",
   "execution_count": 1,
   "metadata": {},
   "outputs": [],
   "source": [
    "from Package.data import * \n",
    "from Package.modules import *  "
   ]
  },
  {
   "cell_type": "markdown",
   "metadata": {},
   "source": [
    "Primer inciso: generar la estructura"
   ]
  },
  {
   "cell_type": "code",
   "execution_count": 2,
   "metadata": {},
   "outputs": [
    {
     "name": "stdout",
     "output_type": "stream",
     "text": [
      "[('agustin', 0, 0, 0), ('yanina', 10, 2, 5), ('andrés', 4, 0, 1), ('ariadna', 0, 0, 0), ('bautista', 5, 5, 5), ('carolina', 14, 2, 2), ('cesar', 0, 0, 0), ('david', 0, 0, 0), ('diego', 7, 1, 1), ('dolores', 2, 2, 2), ('dylan', 1, 0, 1), ('eliana', 1, 5, 5), ('emanuel', 1, 5, 5), ('fabián', 5, 0, 0), ('noelia', 6, 1, 1), (\"francsica'\", 1, 0, 0), ('federico', 1, 2, 2), ('fernanda', 2, 3, 3), ('gonzalo', 0, 0, 1), ('nancy ', 11, 0, 0)]\n"
     ]
    }
   ],
   "source": [
    "hockey_data = generateE(names,goals,goals_avoided,assists)\n",
    "print(hockey_data)"
   ]
  },
  {
   "cell_type": "markdown",
   "metadata": {},
   "source": [
    "Segundo Inciso: calcular goleador/a y la cantidad de goles "
   ]
  },
  {
   "cell_type": "code",
   "execution_count": 3,
   "metadata": {},
   "outputs": [
    {
     "name": "stdout",
     "output_type": "stream",
     "text": [
      "El/La mayor goleador/a fue: carolina y anoto: 14 goles. \n"
     ]
    }
   ],
   "source": [
    "goal_scorer = calculate_scorer(hockey_data,1)\n",
    "print(f'El/La mayor goleador/a fue: {goal_scorer[0]} y anoto: {goal_scorer[1]} goles. ')"
   ]
  },
  {
   "cell_type": "markdown",
   "metadata": {},
   "source": [
    "Tercer inciso: calcular el/la jugador/a mas influyente del equipo"
   ]
  },
  {
   "cell_type": "code",
   "execution_count": 4,
   "metadata": {},
   "outputs": [
    {
     "name": "stdout",
     "output_type": "stream",
     "text": [
      "El/La jugador/a mas influyente del equipo es: carolina\n"
     ]
    }
   ],
   "source": [
    "mvp = most_valuavle_player(hockey_data)\n",
    "print (f'El/La jugador/a mas influyente del equipo es: {mvp}')"
   ]
  },
  {
   "cell_type": "markdown",
   "metadata": {},
   "source": [
    "Cuarto y Quinto inciso: Conocer el promedio de goles del equipo por partido y el promedio de goles personal de el/la goleador/a"
   ]
  },
  {
   "cell_type": "code",
   "execution_count": 5,
   "metadata": {},
   "outputs": [
    {
     "name": "stdout",
     "output_type": "stream",
     "text": [
      "El promedio de goles anotados fue: 2.84.\n",
      "El promedio personal de carolina fue de: 0.56 \n"
     ]
    }
   ],
   "source": [
    "total_goals = sum(goals)\n",
    "goals_match = total_goals/matchs\n",
    "print (f'El promedio de goles anotados fue: {goals_match}.\\nEl promedio personal de {goal_scorer[0]} fue de: {goal_scorer[1]/matchs} ') "
   ]
  },
  {
   "cell_type": "markdown",
   "metadata": {},
   "source": [
    "Ahora detallaremos el inciso 2 para su explicacion en video"
   ]
  },
  {
   "cell_type": "markdown",
   "metadata": {},
   "source": [
    "hacemos un run de la funcion para disponer de su resultado(return)"
   ]
  },
  {
   "cell_type": "code",
   "execution_count": 7,
   "metadata": {},
   "outputs": [],
   "source": [
    "def calculate_scorer(hockey_data,stat):\n",
    "    max_player = max(hockey_data, key=lambda x: x[stat])\n",
    "    return max_player"
   ]
  },
  {
   "cell_type": "markdown",
   "metadata": {},
   "source": [
    "Impirimiremos su return para corroboarar que devuelva el maximo de goles y el/la goleador/a"
   ]
  },
  {
   "cell_type": "code",
   "execution_count": 8,
   "metadata": {},
   "outputs": [
    {
     "name": "stdout",
     "output_type": "stream",
     "text": [
      "El/La mayor goleador/a fue: carolina y anoto: 14 goles. \n"
     ]
    }
   ],
   "source": [
    "goal_scorer = calculate_scorer(hockey_data,1)\n",
    "print(f'El/La mayor goleador/a fue: {goal_scorer[0]} y anoto: {goal_scorer[1]} goles. ')"
   ]
  }
 ],
 "metadata": {
  "kernelspec": {
   "display_name": "Python 3",
   "language": "python",
   "name": "python3"
  },
  "language_info": {
   "codemirror_mode": {
    "name": "ipython",
    "version": 3
   },
   "file_extension": ".py",
   "mimetype": "text/x-python",
   "name": "python",
   "nbconvert_exporter": "python",
   "pygments_lexer": "ipython3",
   "version": "3.11.9"
  }
 },
 "nbformat": 4,
 "nbformat_minor": 2
}
